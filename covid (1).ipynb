{
 "cells": [
  {
   "cell_type": "code",
   "execution_count": 1,
   "id": "2ffc32e1-d64d-4b7c-9797-24f9f6a3b24a",
   "metadata": {},
   "outputs": [],
   "source": [
    "# COVID-19 GLOBAL DATA TRACKER\n",
    "# Analyze Global trends in Covid-19 cases, deaths and vaccination"
   ]
  },
  {
   "cell_type": "code",
   "execution_count": 2,
   "id": "3729b153-b7c0-4076-9482-6f6d941e5255",
   "metadata": {},
   "outputs": [],
   "source": [
    "# import libraries\n",
    "import pandas as pd\n",
    "import matplotlib.pyplot as plt\n",
    "import seaborn as sns\n",
    "import plotly.express as px\n",
    "import ipywidgets as widgets\n",
    "from IPython.display import display, Markdown\n",
    "%matplotlib inline"
   ]
  },
  {
   "cell_type": "code",
   "execution_count": 3,
   "id": "7e9b50f1-5e4a-44ac-82f1-568bcd08cc4c",
   "metadata": {},
   "outputs": [
    {
     "name": "stdout",
     "output_type": "stream",
     "text": [
      "Dataset loaded. Shape: (429435, 67)\n"
     ]
    },
    {
     "data": {
      "text/plain": [
       "<bound method NDFrame.head of        iso_code continent     location        date  total_cases  new_cases  \\\n",
       "0           AFG      Asia  Afghanistan  2020-01-05          0.0        0.0   \n",
       "1           AFG      Asia  Afghanistan  2020-01-06          0.0        0.0   \n",
       "2           AFG      Asia  Afghanistan  2020-01-07          0.0        0.0   \n",
       "3           AFG      Asia  Afghanistan  2020-01-08          0.0        0.0   \n",
       "4           AFG      Asia  Afghanistan  2020-01-09          0.0        0.0   \n",
       "...         ...       ...          ...         ...          ...        ...   \n",
       "429430      ZWE    Africa     Zimbabwe  2024-07-31     266386.0        0.0   \n",
       "429431      ZWE    Africa     Zimbabwe  2024-08-01     266386.0        0.0   \n",
       "429432      ZWE    Africa     Zimbabwe  2024-08-02     266386.0        0.0   \n",
       "429433      ZWE    Africa     Zimbabwe  2024-08-03     266386.0        0.0   \n",
       "429434      ZWE    Africa     Zimbabwe  2024-08-04     266386.0        0.0   \n",
       "\n",
       "        new_cases_smoothed  total_deaths  new_deaths  new_deaths_smoothed  \\\n",
       "0                      NaN           0.0         0.0                  NaN   \n",
       "1                      NaN           0.0         0.0                  NaN   \n",
       "2                      NaN           0.0         0.0                  NaN   \n",
       "3                      NaN           0.0         0.0                  NaN   \n",
       "4                      NaN           0.0         0.0                  NaN   \n",
       "...                    ...           ...         ...                  ...   \n",
       "429430                 0.0        5740.0         0.0                  0.0   \n",
       "429431                 0.0        5740.0         0.0                  0.0   \n",
       "429432                 0.0        5740.0         0.0                  0.0   \n",
       "429433                 0.0        5740.0         0.0                  0.0   \n",
       "429434                 0.0        5740.0         0.0                  0.0   \n",
       "\n",
       "        ...  male_smokers  handwashing_facilities  hospital_beds_per_thousand  \\\n",
       "0       ...           NaN                   37.75                         0.5   \n",
       "1       ...           NaN                   37.75                         0.5   \n",
       "2       ...           NaN                   37.75                         0.5   \n",
       "3       ...           NaN                   37.75                         0.5   \n",
       "4       ...           NaN                   37.75                         0.5   \n",
       "...     ...           ...                     ...                         ...   \n",
       "429430  ...          30.7                   36.79                         1.7   \n",
       "429431  ...          30.7                   36.79                         1.7   \n",
       "429432  ...          30.7                   36.79                         1.7   \n",
       "429433  ...          30.7                   36.79                         1.7   \n",
       "429434  ...          30.7                   36.79                         1.7   \n",
       "\n",
       "        life_expectancy  human_development_index  population  \\\n",
       "0                 64.83                     0.51    41128772   \n",
       "1                 64.83                     0.51    41128772   \n",
       "2                 64.83                     0.51    41128772   \n",
       "3                 64.83                     0.51    41128772   \n",
       "4                 64.83                     0.51    41128772   \n",
       "...                 ...                      ...         ...   \n",
       "429430            61.49                     0.57    16320539   \n",
       "429431            61.49                     0.57    16320539   \n",
       "429432            61.49                     0.57    16320539   \n",
       "429433            61.49                     0.57    16320539   \n",
       "429434            61.49                     0.57    16320539   \n",
       "\n",
       "        excess_mortality_cumulative_absolute  excess_mortality_cumulative  \\\n",
       "0                                        NaN                          NaN   \n",
       "1                                        NaN                          NaN   \n",
       "2                                        NaN                          NaN   \n",
       "3                                        NaN                          NaN   \n",
       "4                                        NaN                          NaN   \n",
       "...                                      ...                          ...   \n",
       "429430                                   NaN                          NaN   \n",
       "429431                                   NaN                          NaN   \n",
       "429432                                   NaN                          NaN   \n",
       "429433                                   NaN                          NaN   \n",
       "429434                                   NaN                          NaN   \n",
       "\n",
       "        excess_mortality  excess_mortality_cumulative_per_million  \n",
       "0                    NaN                                      NaN  \n",
       "1                    NaN                                      NaN  \n",
       "2                    NaN                                      NaN  \n",
       "3                    NaN                                      NaN  \n",
       "4                    NaN                                      NaN  \n",
       "...                  ...                                      ...  \n",
       "429430               NaN                                      NaN  \n",
       "429431               NaN                                      NaN  \n",
       "429432               NaN                                      NaN  \n",
       "429433               NaN                                      NaN  \n",
       "429434               NaN                                      NaN  \n",
       "\n",
       "[429435 rows x 67 columns]>"
      ]
     },
     "execution_count": 3,
     "metadata": {},
     "output_type": "execute_result"
    }
   ],
   "source": [
    "# Load Dataset\n",
    "df = pd.read_csv('owid-covid-data.csv')\n",
    "print(\"Dataset loaded. Shape:\", df.shape)\n",
    "df.head"
   ]
  },
  {
   "cell_type": "code",
   "execution_count": 4,
   "id": "e840bf0c-c308-4dc9-b526-8ea29a94dd7d",
   "metadata": {},
   "outputs": [
    {
     "name": "stderr",
     "output_type": "stream",
     "text": [
      "/tmp/ipykernel_1326/1687036460.py:4: SettingWithCopyWarning: \n",
      "A value is trying to be set on a copy of a slice from a DataFrame.\n",
      "Try using .loc[row_indexer,col_indexer] = value instead\n",
      "\n",
      "See the caveats in the documentation: https://pandas.pydata.org/pandas-docs/stable/user_guide/indexing.html#returning-a-view-versus-a-copy\n",
      "  df['date'] = pd.to_datetime(df['date'])\n",
      "/tmp/ipykernel_1326/1687036460.py:5: SettingWithCopyWarning: \n",
      "A value is trying to be set on a copy of a slice from a DataFrame\n",
      "\n",
      "See the caveats in the documentation: https://pandas.pydata.org/pandas-docs/stable/user_guide/indexing.html#returning-a-view-versus-a-copy\n",
      "  df.fillna(0, inplace=True)\n"
     ]
    }
   ],
   "source": [
    "# Data Cleaning\n",
    "countries = ['Kenya','India','United States']\n",
    "df = df[df['location'].isin(countries)]\n",
    "df['date'] = pd.to_datetime(df['date'])\n",
    "df.fillna(0, inplace=True)"
   ]
  },
  {
   "cell_type": "code",
   "execution_count": 5,
   "id": "7c70e59c-e55b-4b80-8986-5f1dd84bf0aa",
   "metadata": {},
   "outputs": [
    {
     "data": {
      "image/png": "[encoded data removed]",
      "text/plain": [
       "<Figure size 1200x600 with 1 Axes>"
      ]
     },
     "metadata": {},
     "output_type": "display_data"
    }
   ],
   "source": [
    "# Total Cases Over Time\n",
    "plt.figure(figsize=(12,6))\n",
    "for country in countries:\n",
    "    country_data = df[df['location']== country]\n",
    "    plt.plot(country_data['date'], country_data['total_cases'], label=country)\n",
    "plt.title('Totla COVID-19 Cases Over Time')\n",
    "plt.xlabel('Date')\n",
    "plt.ylabel('Total Cases')\n",
    "plt.legend()\n",
    "plt.grid(True)\n",
    "plt.show()"
   ]
  },
  {
   "cell_type": "code",
   "execution_count": 6,
   "id": "cfdc4382-dfa2-401b-a73f-9c8064fbc16e",
   "metadata": {},
   "outputs": [
    {
     "ename": "SyntaxError",
     "evalue": "closing parenthesis ')' does not match opening parenthesis '[' (1626478758.py, line 5)",
     "output_type": "error",
     "traceback": [
      "\u001b[0;36m  Cell \u001b[0;32mIn[6], line 5\u001b[0;36m\u001b[0m\n\u001b[0;31m    plt.plot(df[df['location'] == country]['date'], df[df['location']) == country]['death_rate'], label=country)\u001b[0m\n\u001b[0m                                                                     ^\u001b[0m\n\u001b[0;31mSyntaxError\u001b[0m\u001b[0;31m:\u001b[0m closing parenthesis ')' does not match opening parenthesis '['\n"
     ]
    }
   ],
   "source": [
    "# Death Rate Over Time\n",
    "df['death_rate'] = df['total_deaths'] / df['total_cases']\n",
    "plt.figure(figsize=(12,6))\n",
    "for country in countries:\n",
    "   plt.plot(df[df['location'] == country]['date'], df[df['location']]) == country]['death_rate'], label=country)\n",
    "plt.title('COVID-19 Death Rate Over Time')\n",
    "plt.xlabel('Date')\n",
    "plt.ylabel('Death Rate')\n",
    "plt.legend()\n",
    "plt.grid(True)\n",
    "plt.show()"
   ]
  },
  {
   "cell_type": "code",
   "execution_count": null,
   "id": "c7b748b5-04c7-4685-8ab8-ec270a1fbe07",
   "metadata": {},
   "outputs": [],
   "source": []
  },
  {
   "cell_type": "code",
   "execution_count": null,
   "id": "a791a3fd-9c52-4ef4-9448-ca824b68da6c",
   "metadata": {},
   "outputs": [],
   "source": [
    "# Vaccination Progress\n",
    "plt.figure(figsize=(12,6))\n",
    "for country in countries:\n",
    "    country_data = df[df['location'] == country]\n",
    "    plt.plot(country_data['date'], country_data['total_vaccinations'], label=country)\n",
    "plt.title('Cumulative Vaccinations Over Time')\n",
    "plt.xlabel('Date')\n",
    "plt.ylabel('Total Vaccinations')\n",
    "plt.legend()\n",
    "plt.grid(True)\n",
    "plt.show()"
   ]
  },
  {
   "cell_type": "code",
   "execution_count": null,
   "id": "36a717d1-3502-44ed-b377-ec51a2ba2613",
   "metadata": {},
   "outputs": [],
   "source": [
    "# Choropleth Map: Interactive\n",
    "map_df = pd.read_csv('owid-covid-data.csv')\n",
    "map_df = map_df[~map_df['iso_code'].str.startswith('OWID')].copy()\n",
    "\n",
    "METRICS = {\n",
    "'Total Cases': 'total_cases',\n",
    "'Total Deaths': 'total_deaths',\n",
    "'Total Vaccinations': 'total_vaccinations',\n",
    "'People Vaccinated per Hundred': 'people_vaccinated_per_hundred',\n",
    "'Deaths per Million': 'total_deaths_per_million',\n",
    "'Cases per Million': 'total_cases_per_million'\n",
    "}\n",
    "\n",
    "metric_dropdown = widgets.Dropdown(\n",
    "    options=list(metrics.keys()),\n",
    "    description='Metric:',\n",
    "    value='Total Cases'\n",
    ")\n",
    "\n",
    "available _dates = map_df['date'].unique()\n",
    "date_dropdown = widgets.Dropdown(\n",
    "    options=sorted(available_dates, reverse=True),\n",
    "    description='Date:',\n",
    "    value=sorted(available_dates, reverse=True)[0]\n",
    ")\n",
    "\n",
    "def update_map(metric_label, date_str):\n",
    "      metric_col = metrics[metric_label]\n",
    "      filtered = map_df[map_df['date'] == date_str]\n",
    "      filtered = filtered.drop_duplicates(subset='iso_code')\n",
    "fig = px.choropleth(\n",
    "    filtered,\n",
    "    locations='iso_code',\n",
    "    color=metric_col,\n",
    "    hover_name='location',\n",
    "    color_continuous_scale='Viridis',\n",
    "    title=f'{metric_label} on {date_str}'\n",
    ")\n",
    "fig.update_layout(geo=dict(showframe=False, showcoastlines=False))\n",
    "fig.show()\n",
    "\n",
    "widgets.interact(update_map, metric_label=metric_dropdown, date_str=date_dropdown"
   ]
  },
  {
   "cell_type": "code",
   "execution_count": null,
   "id": "2fdf2d22-2435-4708-8999-597830eacca9",
   "metadata": {},
   "outputs": [],
   "source": []
  },
  {
   "cell_type": "code",
   "execution_count": null,
   "id": "c9901b16-fd99-45a5-a2db-a1cff03c7e5c",
   "metadata": {},
   "outputs": [],
   "source": []
  },
  {
   "cell_type": "code",
   "execution_count": null,
   "id": "75c95efb-9b66-4c12-a624-0b3b4fac6515",
   "metadata": {},
   "outputs": [],
   "source": []
  },
  {
   "cell_type": "code",
   "execution_count": null,
   "id": "ccc4d26b-e020-4e92-90a3-e28d8a5e7ee1",
   "metadata": {},
   "outputs": [],
   "source": []
  },
  {
   "cell_type": "code",
   "execution_count": null,
   "id": "33de5b0a-bcf3-4490-9c9f-b9823b847860",
   "metadata": {},
   "outputs": [],
   "source": []
  },
  {
   "cell_type": "code",
   "execution_count": null,
   "id": "f68772da-612c-476d-a5f0-1965dda994ac",
   "metadata": {},
   "outputs": [],
   "source": []
  },
  {
   "cell_type": "code",
   "execution_count": null,
   "id": "7612c968-d74b-4416-8bf1-8d8648e52a01",
   "metadata": {},
   "outputs": [],
   "source": []
  },
  {
   "cell_type": "code",
   "execution_count": null,
   "id": "cccde57c-cd61-4a62-9715-8e9073d6adf4",
   "metadata": {},
   "outputs": [],
   "source": []
  },
  {
   "cell_type": "code",
   "execution_count": null,
   "id": "a4dd04cb-a071-4bb4-a242-7c4e3f4dd81b",
   "metadata": {},
   "outputs": [],
   "source": []
  },
  {
   "cell_type": "code",
   "execution_count": null,
   "id": "48e00179-73dd-4ea1-9d42-60b579929295",
   "metadata": {},
   "outputs": [],
   "source": []
  },
  {
   "cell_type": "code",
   "execution_count": null,
   "id": "17156d1e-8e06-417a-a136-83c9d6a01f5d",
   "metadata": {},
   "outputs": [],
   "source": []
  },
  {
   "cell_type": "code",
   "execution_count": null,
   "id": "26ca4696-e642-4eaf-a6c6-582c51a59986",
   "metadata": {},
   "outputs": [],
   "source": []
  },
  {
   "cell_type": "code",
   "execution_count": null,
   "id": "a1728938-2741-47b5-aeef-23b8efdead4a",
   "metadata": {},
   "outputs": [],
   "source": []
  },
  {
   "cell_type": "code",
   "execution_count": null,
   "id": "5f90cae5-c764-4b2e-9873-e2679d4c1378",
   "metadata": {},
   "outputs": [],
   "source": []
  },
  {
   "cell_type": "code",
   "execution_count": null,
   "id": "22d5dce4-1c90-4da5-99f5-4d430c83e2b1",
   "metadata": {},
   "outputs": [],
   "source": []
  },
  {
   "cell_type": "code",
   "execution_count": null,
   "id": "d87dd198-0eab-49e0-99b6-c795f5f82b32",
   "metadata": {},
   "outputs": [],
   "source": []
  }
 ],
 "metadata": {
  "kernelspec": {
   "display_name": "anaconda-panel-2023.05-py310",
   "language": "python",
   "name": "conda-env-anaconda-panel-2023.05-py310-py"
  },
  "language_info": {
   "codemirror_mode": {
    "name": "ipython",
    "version": 3
   },
   "file_extension": ".py",
   "mimetype": "text/x-python",
   "name": "python",
   "nbconvert_exporter": "python",
   "pygments_lexer": "ipython3",
   "version": "3.11.5"
  }
 },
 "nbformat": 4,
 "nbformat_minor": 5
}
